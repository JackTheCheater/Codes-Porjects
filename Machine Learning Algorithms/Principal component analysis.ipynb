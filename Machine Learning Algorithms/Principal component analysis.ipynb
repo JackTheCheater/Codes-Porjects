{
 "cells": [
  {
   "cell_type": "markdown",
   "metadata": {
    "id": "9zrccQcLrw0s"
   },
   "source": [
    "# Principal Component Analysis (PCA)\n",
    "\n",
    "In this lab we will move to considering unsupervised learning, and in particulat the problem of dimensionality reduction.\n",
    "\n",
    "As usual, we start importing libraries and functions already used in one of the previous labs."
   ]
  },
  {
   "cell_type": "code",
   "execution_count": 1,
   "metadata": {
    "id": "9jwK0JeBrw08"
   },
   "outputs": [],
   "source": [
    "# import libraries\n",
    "%matplotlib inline\n",
    "# Garbarino Giacomo s4545532\n",
    "import numpy as np\n",
    "import matplotlib.pyplot as plt\n",
    "import os\n",
    "import numpy.linalg as la"
   ]
  },
  {
   "cell_type": "code",
   "execution_count": 2,
   "metadata": {
    "id": "fQpb5kXwrw1Q"
   },
   "outputs": [],
   "source": [
    "def mixGauss(means, sigmas, n):\n",
    "\n",
    "    means = np.array(means)\n",
    "    sigmas = np.array(sigmas)\n",
    "\n",
    "    d = means.shape[1]\n",
    "    num_classes = sigmas.size\n",
    "    data = np.full((n * num_classes, d), np.inf)\n",
    "    labels = np.zeros(n * num_classes)\n",
    "\n",
    "    for idx, sigma in enumerate(sigmas):\n",
    "        data[idx * n:(idx + 1) * n] = np.random.multivariate_normal(mean=means[idx], cov=np.eye(d) * sigmas[idx] ** 2,\n",
    "                                                                    size=n)\n",
    "        labels[idx * n:(idx + 1) * n] = idx \n",
    "        \n",
    "    if(num_classes == 2):\n",
    "        labels[labels==0] = -1\n",
    "\n",
    "    return data, labels"
   ]
  },
  {
   "cell_type": "markdown",
   "metadata": {
    "id": "8qUPdPi-rw1f"
   },
   "source": [
    "##### Data generation\n",
    "\n",
    "To generate a synthetic dataset suitable for use with PCA, we first generate a subset of \"relevant\" features, and then concatenate with a second set of \"dummy\" featuers. To this purpose,  we proceed as follows:\n",
    "- Generate a dataset with mixGauss using two Gaussians \"close\" with each other (see example below). Let's start considering 2-Dimensional points \n",
    "- Plot the points: you should observe an \"elongated\" points cloud\n",
    "- Enrich the input samples with \"dummy\" variables randomly sampled and concatenate to the relevant features (notice that at this point data visualization is no more possible\n"
   ]
  },
  {
   "cell_type": "code",
   "execution_count": 3,
   "metadata": {
    "id": "UVAsOOPGrw1l"
   },
   "outputs": [
    {
     "data": {
      "image/png": "[encoded data removed]",
      "text/plain": [
       "<Figure size 432x288 with 1 Axes>"
      ]
     },
     "metadata": {
      "needs_background": "light"
     },
     "output_type": "display_data"
    }
   ],
   "source": [
    "n=100 # number of features for each gaussian\n",
    "d=30 # total number of features\n",
    "d_rev = 2 # number of relevant features\n",
    "\n",
    "Xtr, Ytr = mixGauss(means = [[0,0],[1,1]], sigmas = [0.7, 0.7], n=100)\n",
    "Ytr[Ytr==2]=-1\n",
    "\n",
    "# plot\n",
    "plt.scatter(Xtr[:,0], Xtr[:,1], s=30, alpha=0.80)\n",
    "\n",
    "# dummy features generation\n",
    "sigma_noise = 0.01\n",
    "Xtr_noise = sigma_noise * np.random.randn(d_rev*n, d-d_rev)\n",
    "Xtr = np.concatenate((Xtr,Xtr_noise), axis=1)\n"
   ]
  },
  {
   "cell_type": "markdown",
   "metadata": {
    "id": "S52fTMUorw16"
   },
   "source": [
    "### Principal Component Analysis"
   ]
  },
  {
   "cell_type": "markdown",
   "metadata": {
    "id": "3YaDIZIqrw17"
   },
   "source": [
    "##### explainedVariance\n",
    "Given a set of eigenvalues, sorted in decreasing order, the function returns the cumulative explained variance "
   ]
  },
  {
   "cell_type": "code",
   "execution_count": 4,
   "metadata": {
    "id": "1ySMAEaArw2A"
   },
   "outputs": [],
   "source": [
    "def explainedVariance(eig_vals):\n",
    "    \n",
    "    tot = sum(eig_vals)\n",
    "    var_exp = [(i / tot)*100 for i in eig_vals]\n",
    "    cum_var_exp = np.cumsum(var_exp)\n",
    "    \n",
    "    return cum_var_exp"
   ]
  },
  {
   "cell_type": "markdown",
   "metadata": {
    "id": "OuzDacVjrw2H"
   },
   "source": [
    "##### PCA\n",
    "\n",
    "Given a data matrix and a positive number k, the function computes the first k eigenvectors of the covariance matrix. It returns the Principal Components and the Cumulative Explained Variance."
   ]
  },
  {
   "cell_type": "code",
   "execution_count": 5,
   "metadata": {
    "id": "VpMcvTuIrw2I"
   },
   "outputs": [],
   "source": [
    "def PCA(X, k):\n",
    "   \n",
    "    # standardize the data\n",
    "    mean = X.mean(axis=0)\n",
    "    X_z = X - mean\n",
    "    \n",
    "    # Compute the covariance matrix of X_z\n",
    "    cov_mat = X_z.T.dot(X_z) # ... fill here ...\n",
    "    \n",
    "    # compute eigenvalues and eigenvectors of the covariance matrix\n",
    "    eigvals, eigvec = np.linalg.eig(cov_mat)\n",
    "    \n",
    "    # sort the eigenvalues in decreasing order and obtain the corresponding indexes\n",
    "    Iv = np.argsort(eigvals)\n",
    "    Iv = Iv[::-1]\n",
    "    \n",
    "    # select the first k eigenvectors (Principal Components)\n",
    "    PC = eigvec[:,Iv[:k]]\n",
    "   \n",
    "    print(np.shape(PC))\n",
    "    \n",
    "    # compute the Cumulative Explained Variance\n",
    "    expl_var = explainedVariance(eigvals[Iv])\n",
    "    \n",
    "    print(np.shape(PC))\n",
    "    \n",
    "    return PC, expl_var"
   ]
  },
  {
   "cell_type": "markdown",
   "metadata": {
    "id": "NisXGBThrw2O"
   },
   "source": [
    "##### PCA_Project\n",
    "\n",
    "Given a matrix and the Principal Components, it returns the projected points"
   ]
  },
  {
   "cell_type": "code",
   "execution_count": 6,
   "metadata": {
    "id": "IDxVu4WUrw2P"
   },
   "outputs": [],
   "source": [
    "def PCA_Project(X, PC):\n",
    "\n",
    "    # standardize the data\n",
    "    mean = X.mean(axis=0)\n",
    "    X_z = X - mean\n",
    "    \n",
    "    # obtain the projected points\n",
    "    # ... fill here ...\n",
    "    X_proj = X_z.dot(PC)\n",
    "    \n",
    "    return X_proj"
   ]
  },
  {
   "cell_type": "markdown",
   "metadata": {
    "id": "0DjS0g0Orw2R"
   },
   "source": [
    "#### Some analysis\n",
    "\n",
    "We suggest to do the following:\n",
    "- Run PCA on the training set\n",
    "- Project the points\n",
    "- Plot the Cumulative Explained Variance: what can you notice?\n",
    "- Plot the projected points: how do they look?\n",
    "\n",
    "Next, try the previous step as you\n",
    "- Increase the standard deviation (sigma_noise) when you generate dummy features\n",
    "- Increase the number of relevant features\n",
    "\n"
   ]
  },
  {
   "cell_type": "code",
   "execution_count": 7,
   "metadata": {
    "id": "nTBkmYWBrw2S"
   },
   "outputs": [
    {
     "name": "stdout",
     "output_type": "stream",
     "text": [
      "(30, 2)\n",
      "(30, 2)\n"
     ]
    },
    {
     "data": {
      "text/plain": [
       "Text(0, 0.5, 'Cumulative explained variance')"
      ]
     },
     "execution_count": 7,
     "metadata": {},
     "output_type": "execute_result"
    },
    {
     "data": {
      "image/png": "[encoded data removed]",
      "text/plain": [
       "<Figure size 432x288 with 1 Axes>"
      ]
     },
     "metadata": {
      "needs_background": "light"
     },
     "output_type": "display_data"
    }
   ],
   "source": [
    "PC, expl_var = PCA(Xtr, 2) \n",
    "X_proj = PCA_Project(Xtr, PC) \n",
    "pcidx = np.arange(len(expl_var))\n",
    "\n",
    "plt.plot(pcidx, expl_var, '-o')\n",
    "plt.xlabel('Principal Component')\n",
    "plt.ylabel('Cumulative explained variance')\n"
   ]
  },
  {
   "cell_type": "code",
   "execution_count": 8,
   "metadata": {
    "id": "U03gpFKyrw2W"
   },
   "outputs": [
    {
     "data": {
      "text/plain": [
       "<matplotlib.collections.PathCollection at 0x73781fbcd0>"
      ]
     },
     "execution_count": 8,
     "metadata": {},
     "output_type": "execute_result"
    },
    {
     "data": {
      "image/png": "[encoded data removed]",
      "text/plain": [
       "<Figure size 432x288 with 1 Axes>"
      ]
     },
     "metadata": {
      "needs_background": "light"
     },
     "output_type": "display_data"
    }
   ],
   "source": [
    "plt.scatter(X_proj[:,0], X_proj[:,1], s=30, alpha=0.80)"
   ]
  }
 ],
 "metadata": {
  "colab": {
   "name": "PCA.ipynb",
   "provenance": []
  },
  "kernelspec": {
   "display_name": "Python 3 (ipykernel)",
   "language": "python",
   "name": "python3"
  },
  "language_info": {
   "codemirror_mode": {
    "name": "ipython",
    "version": 3
   },
   "file_extension": ".py",
   "mimetype": "text/x-python",
   "name": "python",
   "nbconvert_exporter": "python",
   "pygments_lexer": "ipython3",
   "version": "3.9.6"
  }
 },
 "nbformat": 4,
 "nbformat_minor": 4
}
